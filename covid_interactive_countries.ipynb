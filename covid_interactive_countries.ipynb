{
 "cells": [
  {
   "cell_type": "markdown",
   "metadata": {},
   "source": [
    "# Interactive Plots of COVID-19 Data\n",
    "This is a notebook to interact with COVID-19 data using [Jupyter](https://jupyter.org/) and [Hvplot](https://hvplot.holoviz.org/). Currently we are focused on data from the US but may expand our analyses in the near future."
   ]
  },
  {
   "cell_type": "markdown",
   "metadata": {},
   "source": [
    "## Load Johns Hopkins COVID-19 Data\n",
    "Here we load the COVID-19 confirmed case data from the [The Center for Systems Science and Engineering (CSSE)](https://systems.jhu.edu) at Johns Hopkins University. The CCSE COVID-19 [GitHub Repo](https://github.com/CSSEGISandData/COVID-19) has more information about these data and their sources."
   ]
  },
  {
   "cell_type": "code",
   "execution_count": null,
   "metadata": {},
   "outputs": [],
   "source": [
    "import numpy as np\n",
    "import pandas as pd\n",
    "pd.set_option('display.max_rows', 1000)\n",
    "import hvplot.pandas"
   ]
  },
  {
   "cell_type": "code",
   "execution_count": null,
   "metadata": {},
   "outputs": [],
   "source": [
    "dr='https://raw.githubusercontent.com/CSSEGISandData/COVID-19/master/csse_covid_19_data/csse_covid_19_time_series/'"
   ]
  },
  {
   "cell_type": "code",
   "execution_count": null,
   "metadata": {},
   "outputs": [],
   "source": [
    "src = dr + 'time_series_covid19_confirmed_global.csv'"
   ]
  },
  {
   "cell_type": "code",
   "execution_count": null,
   "metadata": {},
   "outputs": [],
   "source": [
    "src2 = dr + 'time_series_covid19_deaths_global.csv'"
   ]
  },
  {
   "cell_type": "code",
   "execution_count": null,
   "metadata": {},
   "outputs": [],
   "source": [
    "src3 = dr + 'time_series_covid19_recovered_global.csv'"
   ]
  },
  {
   "cell_type": "code",
   "execution_count": null,
   "metadata": {
    "scrolled": true
   },
   "outputs": [],
   "source": [
    "df = pd.read_csv(src)\n",
    "df.rename(columns={'Country/Region': 'country', 'Province/State': 'state',\n",
    "                   'Lat': 'lat', 'Long': 'lon'}, inplace = True)\n",
    "df = df[(df.state!='Diamond Princess') & \n",
    "        (df.state!='Grand Princess')].reset_index(drop=True)\n",
    "df.columns = df.columns[0:4].append(pd.to_datetime(df.columns[4:]))\n",
    "df"
   ]
  },
  {
   "cell_type": "code",
   "execution_count": null,
   "metadata": {},
   "outputs": [],
   "source": [
    "df2 = pd.read_csv(src2)\n",
    "df2.rename(columns={'Country/Region': 'country', 'Province/State': 'state',\n",
    "                   'Lat': 'lat', 'Long': 'lon'}, inplace = True)\n",
    "df2 = df2[(df2.state!='Diamond Princess') & \n",
    "        (df2.state!='Grand Princess')].reset_index(drop=True)\n",
    "df2.columns = df2.columns[0:4].append(pd.to_datetime(df2.columns[4:]))"
   ]
  },
  {
   "cell_type": "code",
   "execution_count": null,
   "metadata": {},
   "outputs": [],
   "source": [
    "df3 = pd.read_csv(src3)\n",
    "df3.rename(columns={'Country/Region': 'country', 'Province/State': 'state',\n",
    "                   'Lat': 'lat', 'Long': 'lon'}, inplace = True)\n",
    "df3 = df3[(df3.state!='Diamond Princess') & \n",
    "        (df3.state!='Grand Princess')].reset_index(drop=True)\n",
    "df3.columns = df3.columns[0:4].append(pd.to_datetime(df3.columns[4:]))"
   ]
  },
  {
   "cell_type": "markdown",
   "metadata": {},
   "source": [
    "## Plot all cases on log scale\n",
    "Below is a quick plot of all  cases on a logarithmic scale. \n",
    "\n",
    "Hvplot creates holoviews objects, and the `*` symbol means [overlay](http://holoviews.org/reference/containers/bokeh/Overlay.html).  See [holoviz plot customization](http://holoviews.org/user_guide/Customizing_Plots.html) for available options.  "
   ]
  },
  {
   "cell_type": "code",
   "execution_count": null,
   "metadata": {},
   "outputs": [],
   "source": [
    "def country(name='US'):\n",
    "    conf = df[(df.country==name)]\n",
    "    death = df2[(df2.country==name)]\n",
    "    reco = df3[(df3.country==name)]\n",
    "    opts = {'legend': True, 'logy': True, 'grid': True, 'width':950, 'height': 300,\n",
    "        'title': f'Cases of COVID-19 in {name}', 'padding':0.1, 'xticks':10,\n",
    "        'ylim':(1.0,1.0e3)}\n",
    "    s = conf.iloc[:,4:].sum()\n",
    "    s2 = death.iloc[:,4:].sum()\n",
    "    s3 = reco.iloc[:,4:].sum()\n",
    "    s.name = name + ' conf'\n",
    "    s2.name = name + ' death'\n",
    "    s3.name = name + ' reco'\n",
    "    linec = s.hvplot(**opts)\n",
    "    lined = s2.hvplot(**opts)\n",
    "    liner = s3.hvplot(**opts)\n",
    "\n",
    "    return linec, lined, liner"
   ]
  },
  {
   "cell_type": "markdown",
   "metadata": {},
   "source": [
    "This is how we [slice columns](https://stackoverflow.com/questions/10665889/how-to-take-column-slices-of-dataframe-in-pandas) in Pandas."
   ]
  },
  {
   "cell_type": "code",
   "execution_count": null,
   "metadata": {},
   "outputs": [],
   "source": [
    "usa = country(name='US')\n",
    "china = country(name='China')\n",
    "italy = country(name='Italy')\n",
    "turkey = country(name='Turkey')\n",
    "japan = country(name='Japan')"
   ]
  },
  {
   "cell_type": "code",
   "execution_count": null,
   "metadata": {},
   "outputs": [],
   "source": [
    "(usa[0] * china[0] * italy[0] * turkey[0] * japan[0]).opts(title_format='Cases of COVID-19', ylim=(1.0,1.0e5), legend_position='top_left')"
   ]
  },
  {
   "cell_type": "code",
   "execution_count": null,
   "metadata": {},
   "outputs": [],
   "source": [
    "(usa[1] * china[1] * italy[1] * turkey[1] * japan[1]).opts(title_format='Cases of COVID-19', ylim=(1.0,1.0e4), legend_position='top_left')"
   ]
  },
  {
   "cell_type": "code",
   "execution_count": null,
   "metadata": {
    "scrolled": true
   },
   "outputs": [],
   "source": [
    "(china[0] * china[1] * china[2]).opts(title_format='Cases of COVID-19', ylim=(1.0,1.0e5), legend_position='top_left')"
   ]
  },
  {
   "cell_type": "code",
   "execution_count": null,
   "metadata": {},
   "outputs": [],
   "source": [
    "(italy[0] * italy[1] * italy[2]).opts(title_format='Cases of COVID-19', ylim=(1.0,1.0e5), legend_position='top_left')"
   ]
  },
  {
   "cell_type": "code",
   "execution_count": null,
   "metadata": {},
   "outputs": [],
   "source": [
    "(usa[0] * usa[1] * usa[2]).opts(title_format='Cases of COVID-19', ylim=(1.0,1.0e5), legend_position='top_left')"
   ]
  },
  {
   "cell_type": "code",
   "execution_count": null,
   "metadata": {},
   "outputs": [],
   "source": [
    "(turkey[0] * turkey[1] * turkey[2]).opts(title_format='Cases of COVID-19', ylim=(1.0,1.0e5), legend_position='top_left')"
   ]
  },
  {
   "cell_type": "code",
   "execution_count": null,
   "metadata": {},
   "outputs": [],
   "source": [
    "df=df.fillna(\"Total\")\n",
    "df2=df2.fillna(\"Total\")\n",
    "df3=df3.fillna(\"Total\")\n",
    "df"
   ]
  },
  {
   "cell_type": "code",
   "execution_count": null,
   "metadata": {},
   "outputs": [],
   "source": [
    "dfsub=df.loc[:,\"country\" ::] \n",
    "dfsub2=df2.loc[:,\"country\" ::] \n",
    "dfsub3=df3.loc[:,\"country\" ::] \n",
    "dfsub"
   ]
  },
  {
   "cell_type": "code",
   "execution_count": null,
   "metadata": {},
   "outputs": [],
   "source": [
    "df['country'] = df.apply(lambda x: (x.country,x.state), axis=1)\n",
    "df2['country'] = df2.apply(lambda x: (x.country,x.state), axis=1)\n",
    "df3['country'] = df3.apply(lambda x: (x.country,x.state), axis=1)\n",
    "del df[\"state\"]\n",
    "del df2[\"state\"]\n",
    "del df3[\"state\"]\n",
    "df"
   ]
  },
  {
   "cell_type": "code",
   "execution_count": null,
   "metadata": {},
   "outputs": [],
   "source": [
    "dfm=pd.melt(df, id_vars=df.columns.values[0:3], var_name=\"Date\", value_name=\"Value\")\n",
    "dfm2=pd.melt(df2, id_vars=df2.columns.values[0:3], var_name=\"Date\", value_name=\"Value\")\n",
    "dfm3=pd.melt(df3, id_vars=df3.columns.values[0:3], var_name=\"Date\", value_name=\"Value\")\n",
    "dfm"
   ]
  },
  {
   "cell_type": "code",
   "execution_count": null,
   "metadata": {},
   "outputs": [],
   "source": [
    "dfm.rename(columns = {'country':'id'}, inplace = True)\n",
    "dfm2.rename(columns = {'country':'id'}, inplace = True)\n",
    "dfm3.rename(columns = {'country':'id'}, inplace = True)"
   ]
  },
  {
   "cell_type": "code",
   "execution_count": null,
   "metadata": {},
   "outputs": [],
   "source": [
    "dfm.to_csv('covid_confirmed2.csv', index=False)\n",
    "dfm2.to_csv('covid_deaths2.csv', index=False)\n",
    "dfm3.to_csv('covid_recovered2.csv', index=False)\n"
   ]
  }
 ],
 "metadata": {
  "kernelspec": {
   "display_name": "Python 3",
   "language": "python",
   "name": "python3"
  },
  "language_info": {
   "codemirror_mode": {
    "name": "ipython",
    "version": 3
   },
   "file_extension": ".py",
   "mimetype": "text/x-python",
   "name": "python",
   "nbconvert_exporter": "python",
   "pygments_lexer": "ipython3",
   "version": "3.8.2"
  },
  "widgets": {
   "application/vnd.jupyter.widget-state+json": {
    "state": {},
    "version_major": 2,
    "version_minor": 0
   }
  }
 },
 "nbformat": 4,
 "nbformat_minor": 4
}
